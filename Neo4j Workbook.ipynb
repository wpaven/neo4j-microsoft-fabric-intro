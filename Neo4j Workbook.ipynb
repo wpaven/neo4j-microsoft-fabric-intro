{
 "cells": [
  {
   "cell_type": "code",
   "execution_count": null,
   "id": "fe786fc3-c632-4b32-97be-5222dd7cc354",
   "metadata": {
    "microsoft": {
     "language": "python",
     "language_group": "synapse_pyspark"
    }
   },
   "outputs": [],
   "source": [
    "%%configure -f\n",
    "{\n",
    "  \"conf\": {\n",
    "    \"spark.jars\": \"abfss://f7e2db24-d041-47bb-ae02-0c67982c6c4f@onelake.dfs.fabric.microsoft.com/8fcfa082-2992-46d9-9794-dea041d8c11a/Files/Drivers/neo4j-spark-connector-5.3.8-s_2.12.jar\"\n",
    "  }\n",
    "}"
   ]
  },
  {
   "cell_type": "code",
   "execution_count": null,
   "id": "e2f1430c-3799-4bf6-8d9b-2bfbe8454102",
   "metadata": {
    "microsoft": {
     "language": "scala",
     "language_group": "synapse_pyspark"
    }
   },
   "outputs": [],
   "source": [
    "%%spark\n",
    "\n",
    "\n",
    "// Set base path\n",
    "val absfss_Base_Path = \"abfss://f7e2db24-d041-47bb-ae02-0c67982c6c4f@onelake.dfs.fabric.microsoft.com/8fcfa082-2992-46d9-9794-dea041d8c11a/Files/Northwind/\"\n",
    "\n",
    "// Import required libraries\n",
    "import org.apache.spark.sql.{DataFrame, SaveMode, SparkSession}\n",
    "import com.fasterxml.jackson.databind.ObjectMapper\n",
    "import com.fasterxml.jackson.module.scala.DefaultScalaModule\n",
    "import com.fasterxml.jackson.module.scala.experimental.ScalaObjectMapper\n",
    "\n",
    "// Create Spark session\n",
    "val spark = SparkSession.builder().appName(\"Neo4j Workbook\").getOrCreate()"
   ]
  },
  {
   "cell_type": "code",
   "execution_count": null,
   "id": "20069ff5-689b-4c2b-8c35-e7411d6e08be",
   "metadata": {
    "collapsed": false,
    "microsoft": {
     "language": "scala",
     "language_group": "synapse_pyspark"
    }
   },
   "outputs": [],
   "source": [
    "%%spark\n",
    "// Read Northwind data files\n",
    "val customerDF = spark.read.option(\"header\", true).csv(absfss_Base_Path + \"customers.csv\")\n",
    "val supplierDF = spark.read.option(\"header\", true).csv(absfss_Base_Path + \"suppliers.csv\")\n",
    "val stagedOrderDF = spark.read.option(\"header\", true).csv(absfss_Base_Path + \"orders.csv\")\n",
    "  .withColumn(\"addressID\", concat_ws(\", \", col(\"shipName\"), col(\"shipAddress\"), \n",
    "  col(\"shipCity\"), col(\"shipRegion\"), col(\"shipPostalCode\"), col(\"shipCountry\")))\n",
    "val orderDetailDF = spark.read.option(\"header\", true).csv(absfss_Base_Path + \"order-details.csv\")\n",
    "val productDF = spark.read.option(\"header\", true).csv(absfss_Base_Path + \"products.csv\")\n",
    "val categoryDF = spark.read.option(\"header\", true).csv(absfss_Base_Path + \"categories.csv\")\n",
    "\n",
    "//create seperate addressesDF and finalize orderDF\n",
    "val addressDF = stagedOrderDF\n",
    " .select($\"addressID\", \n",
    "    $\"shipName\".alias(\"name\"), \n",
    "    $\"shipAddress\".alias(\"address\"), \n",
    "    $\"shipCity\".alias(\"city\"), \n",
    "    $\"shipRegion\".alias(\"region\"), \n",
    "    $\"shipPostalCode\".alias(\"postalCode\"), \n",
    "    $\"shipCountry\".alias(\"country\"))\n",
    " .dropDuplicates(\"addressID\")\n",
    "val orderDF = stagedOrderDF.drop(\"shipName\",\"shipAddress\", \"shipCity\", \"shipRegion\", \"shipPostalCode\", \"shipCountry\")\n",
    "//display(orderDF)"
   ]
  },
  {
   "cell_type": "code",
   "execution_count": null,
   "id": "1b86c106-261a-4d87-98c0-fe4886f7b4f3",
   "metadata": {
    "advisor": {
     "adviceMetadata": "{\"artifactId\":\"58687c80-8fa6-4a72-aeeb-48afe1be3060\",\"activityId\":\"cc224500-4e4a-4b5b-8f4c-4d20818d392c\",\"applicationId\":\"application_1753028833695_0001\",\"jobGroupId\":\"5\",\"advices\":{\"info\":2}}"
    },
    "microsoft": {
     "language": "scala",
     "language_group": "synapse_pyspark"
    }
   },
   "outputs": [],
   "source": [
    "%%spark\n",
    "// Neo4j connection details\n",
    "// Hardcoded here.  You can also import from json file stored in lakehouse.  \n",
    "//See Neo4jToLakehouse workbook for example\n",
    "val neo4jUrl = \"neo4j+s://a2e6569d.databases.neo4j.io\"\n",
    "val neo4jUsername = \"neo4j\"\n",
    "val neo4jPassword = \"UpdateThis\"\n",
    "\n",
    "// Write nodes to Neo4j\n",
    "def writeNodesToNeo4j(dataFrame: DataFrame, label: String, nodeKey: String): Unit = {\n",
    "  dataFrame.write.format(\"org.neo4j.spark.DataSource\")\n",
    "    .mode(SaveMode.Overwrite)\n",
    "    .option(\"url\", neo4jUrl)\n",
    "    .option(\"authentication.basic.username\", neo4jUsername)\n",
    "    .option(\"authentication.basic.password\", neo4jPassword)\n",
    "    .option(\"labels\", label)\n",
    "    .option(\"node.keys\", nodeKey)\n",
    "    .option(\"schema.optimization.node.keys\", \"KEY\") //create node key constraints under the hood\n",
    "    .save()\n",
    "}\n",
    "\n",
    "writeNodesToNeo4j(customerDF, \"Customer\", \"customerID\")\n",
    "writeNodesToNeo4j(supplierDF, \"Supplier\", \"supplierID\")\n",
    "writeNodesToNeo4j(orderDF, \"Order\", \"orderID\")\n",
    "writeNodesToNeo4j(productDF, \"Product\", \"productID\")\n",
    "writeNodesToNeo4j(categoryDF, \"Category\", \"categoryID\")\n",
    "writeNodesToNeo4j(addressDF, \"Address\", \"addressID\")\n"
   ]
  },
  {
   "cell_type": "code",
   "execution_count": null,
   "id": "8a3c52cc-b338-424f-b9ae-caa1882659bd",
   "metadata": {
    "microsoft": {
     "language": "scala",
     "language_group": "synapse_pyspark"
    }
   },
   "outputs": [],
   "source": [
    "%%spark\n",
    "// Write relationships to Neo4j\n",
    "\n",
    "case class NodeInfo(labels:String, keys:String)  \n",
    "\n",
    "def writeRelsToNeo4j(dataFrame: DataFrame, sourceNode: NodeInfo, relType: String, targetNode: NodeInfo): Unit = {\n",
    "  dataFrame.write.format(\"org.neo4j.spark.DataSource\")\n",
    "    .mode(SaveMode.Overwrite)\n",
    "    .option(\"url\", neo4jUrl)\n",
    "    .option(\"authentication.basic.username\", neo4jUsername)\n",
    "    .option(\"authentication.basic.password\", neo4jPassword)\n",
    "    .option(\"relationship.save.strategy\", \"keys\")\n",
    "    .option(\"relationship\", relType)\n",
    "    .option(\"relationship.source.save.mode\", \"Match\")\n",
    "    .option(\"relationship.source.labels\", sourceNode.labels)\n",
    "    .option(\"relationship.source.node.keys\", sourceNode.keys)\n",
    "    .option(\"relationship.target.save.mode\", \"Match\")\n",
    "    .option(\"relationship.target.labels\", targetNode.labels)\n",
    "    .option(\"relationship.target.node.keys\", targetNode.keys)\n",
    "    .save()\n",
    "}\n",
    "\n",
    "writeRelsToNeo4j(productDF.select($\"productID\", $\"categoryID\"), NodeInfo(\"Product\", \"productID\"), \"BELONGS_TO\", NodeInfo(\"Category\", \"categoryID\"))\n",
    "writeRelsToNeo4j(productDF.select($\"productID\", $\"supplierID\"), NodeInfo(\"Product\", \"productID\"), \"SUPPLIED_BY\", NodeInfo(\"Supplier\", \"supplierID\"))\n",
    "writeRelsToNeo4j(orderDetailDF.select($\"orderID\", $\"productID\"), NodeInfo(\"Order\", \"orderID\"), \"ORDER_CONTAINS\", NodeInfo(\"Product\", \"productID\"))\n",
    "writeRelsToNeo4j(orderDF.select($\"customerID\", $\"orderID\"), NodeInfo(\"Customer\", \"customerID\"), \"ORDERED\", NodeInfo(\"Order\", \"orderID\"))\n",
    "writeRelsToNeo4j(orderDF.select($\"orderID\", $\"addressID\"), NodeInfo(\"Order\", \"orderID\"), \"SHIPPED_TO\", NodeInfo(\"Address\", \"addressID\"))"
   ]
  }
 ],
 "metadata": {
  "dependencies": {
   "lakehouse": {
    "default_lakehouse": "8fcfa082-2992-46d9-9794-dea041d8c11a",
    "default_lakehouse_name": "Lakehouse1",
    "default_lakehouse_workspace_id": "f7e2db24-d041-47bb-ae02-0c67982c6c4f",
    "known_lakehouses": [
     {
      "id": "8fcfa082-2992-46d9-9794-dea041d8c11a"
     }
    ]
   }
  },
  "kernel_info": {
   "name": "synapse_pyspark"
  },
  "kernelspec": {
   "display_name": "Synapse PySpark",
   "name": "synapse_pyspark"
  },
  "language_info": {
   "name": "python"
  },
  "microsoft": {
   "language": "python",
   "language_group": "synapse_pyspark",
   "ms_spell_check": {
    "ms_spell_check_language": "en"
   }
  },
  "nteract": {
   "version": "nteract-front-end@1.0.0"
  },
  "spark_compute": {
   "compute_id": "/trident/default",
   "session_options": {
    "conf": {
     "spark.synapse.nbs.session.timeout": "1200000"
    }
   }
  },
  "synapse_widget": {
   "state": {},
   "version": "0.1"
  }
 },
 "nbformat": 4,
 "nbformat_minor": 5
}
