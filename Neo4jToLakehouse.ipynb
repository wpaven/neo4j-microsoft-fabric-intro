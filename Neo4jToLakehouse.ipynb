{
 "cells": [
  {
   "cell_type": "code",
   "execution_count": null,
   "id": "15c5ddef-4a8f-42cc-87d4-37387b5a27ac",
   "metadata": {
    "microsoft": {
     "language": "python",
     "language_group": "synapse_pyspark"
    }
   },
   "outputs": [],
   "source": [
    "\n",
    "%%configure -f\n",
    "{\n",
    "  \"conf\": {\n",
    "    \"spark.jars\": \"abfss://f7e2db24-d041-47bb-ae02-0c67982c6c4f@onelake.dfs.fabric.microsoft.com/8fcfa082-2992-46d9-9794-dea041d8c11a/Files/Drivers/neo4j-spark-connector-5.3.8-s_2.12.jar\"\n",
    "  }\n",
    "}\n",
    "\n"
   ]
  },
  {
   "cell_type": "code",
   "execution_count": null,
   "id": "e7a5ea68-cd91-48bf-83ab-0a1e261d053a",
   "metadata": {
    "microsoft": {
     "language": "scala",
     "language_group": "synapse_pyspark"
    }
   },
   "outputs": [],
   "source": [
    "%%spark\n",
    "//JSON File in lakehouse with Neo4j credentials\n",
    "val absfss_JSON_Base_Path = \"abfss://f7e2db24-d041-47bb-ae02-0c67982c6c4f@onelake.dfs.fabric.microsoft.com/8fcfa082-2992-46d9-9794-dea041d8c11a/Files/Drivers/neo4j-conn.json\"\n",
    "\n",
    "// Import required libraries\n",
    "import org.apache.spark.sql.{DataFrame, SaveMode, SparkSession}\n",
    "import com.fasterxml.jackson.databind.ObjectMapper\n",
    "import com.fasterxml.jackson.module.scala.DefaultScalaModule\n",
    "import com.fasterxml.jackson.module.scala.experimental.ScalaObjectMapper\n",
    "\n",
    "// Load JSON file for Neo4j credentials\n",
    "val jsonString = spark.read.text(absfss_JSON_Base_Path).as[String].collect().mkString(\"\\n\")\n",
    "\n",
    "// Parse JSON string\n",
    "val mapper = new ObjectMapper() with ScalaObjectMapper\n",
    "mapper.registerModule(DefaultScalaModule)\n",
    "val data = mapper.readValue[Map[String, Any]](jsonString)\n",
    "\n",
    "// Extract Neo4j connection details\n",
    "val neo4jUrl = data(\"neo4j-url\").asInstanceOf[String]\n",
    "val neo4jUsername = data(\"neo4j-username\").asInstanceOf[String]\n",
    "val neo4jPassword = data(\"neo4j-password\").asInstanceOf[String]\n",
    "\n",
    "val spark = SparkSession.builder \n",
    "    .config(\"spark.neo4j.bolt.url\", neo4jUrl) \n",
    "    .config(\"spark.neo4j.bolt.user\", neo4jUsername)\n",
    "    .config(\"spark.neo4j.bolt.password\", neo4jPassword) \n",
    "    .getOrCreate()\n"
   ]
  },
  {
   "cell_type": "code",
   "execution_count": null,
   "id": "359ebdca-0cd5-4d6e-9038-547fbe688935",
   "metadata": {
    "microsoft": {
     "language": "scala",
     "language_group": "synapse_pyspark"
    }
   },
   "outputs": [],
   "source": [
    "%%spark\n",
    "\n",
    "val df = spark.read.format(\"org.neo4j.spark.DataSource\")  \n",
    "    .option(\"query\", \"match(o:Order)-[oc:ORDER_CONTAINS]->(p:Product) WHERE p.productID = \\\"41\\\" RETURN o.customerID, o.employeeID, o.freight, o.orderDate, o.orderID, o.requiredDate, o.shippedDate, p.productID\") \n",
    "    .option(\"url\", neo4jUrl)\n",
    "    .option(\"authentication.basic.username\", neo4jUsername)\n",
    "    .option(\"authentication.basic.password\", neo4jPassword)\n",
    "    .load()\n",
    "\n",
    "df.show()"
   ]
  },
  {
   "cell_type": "code",
   "execution_count": null,
   "id": "bd4e46fc-9ce8-4b26-899d-cd763b81899e",
   "metadata": {
    "microsoft": {
     "language": "scala",
     "language_group": "synapse_pyspark"
    }
   },
   "outputs": [],
   "source": [
    "%%spark\n",
    "//Write to Files/\n",
    "df.write.mode(\"overwrite\").format(\"csv\").option(\"header\", \"true\").save(\"Files/ExportFromNeo4j/test.csv\")\n"
   ]
  },
  {
   "cell_type": "code",
   "execution_count": null,
   "id": "147e9811-5178-42b6-aa21-a0443eefa426",
   "metadata": {
    "microsoft": {
     "language": "scala",
     "language_group": "synapse_pyspark"
    }
   },
   "outputs": [],
   "source": [
    "   %%spark\n",
    "   //Write to Tables/\n",
    "   df.write.format(\"delta\").mode(\"overwrite\").saveAsTable(\"Lakehouse1.Analysis\")"
   ]
  }
 ],
 "metadata": {
  "dependencies": {
   "lakehouse": {
    "default_lakehouse": "8fcfa082-2992-46d9-9794-dea041d8c11a",
    "default_lakehouse_name": "Lakehouse1",
    "default_lakehouse_workspace_id": "f7e2db24-d041-47bb-ae02-0c67982c6c4f",
    "known_lakehouses": [
     {
      "id": "8fcfa082-2992-46d9-9794-dea041d8c11a"
     }
    ]
   }
  },
  "kernel_info": {
   "name": "synapse_pyspark"
  },
  "kernelspec": {
   "display_name": "synapse_pyspark",
   "name": "synapse_pyspark"
  },
  "language_info": {
   "name": "python"
  },
  "microsoft": {
   "language": "python",
   "language_group": "synapse_pyspark",
   "ms_spell_check": {
    "ms_spell_check_language": "en"
   }
  },
  "nteract": {
   "version": "nteract-front-end@1.0.0"
  },
  "spark_compute": {
   "compute_id": "/trident/default",
   "session_options": {
    "conf": {
     "spark.synapse.nbs.session.timeout": "1200000"
    }
   }
  }
 },
 "nbformat": 4,
 "nbformat_minor": 5
}
